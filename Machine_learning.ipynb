{
 "cells": [
  {
   "cell_type": "markdown",
   "id": "7723bdcb",
   "metadata": {},
   "source": [
    "# FLIGHT PRICE PREDICTION"
   ]
  },
  {
   "cell_type": "markdown",
   "id": "491d64d9",
   "metadata": {},
   "source": [
    "* Our data was collected from Kaggle.\n",
    "* Dataset contains information about flight booking options from the website Easemytrip for flight travel between India's top 6 metro cities.\n",
    "* There are 300261 datapoints and 11 features in the cleaned dataset."
   ]
  },
  {
   "cell_type": "markdown",
   "id": "d41c525b",
   "metadata": {},
   "source": [
    "## PROJECT DESCRIPTION"
   ]
  },
  {
   "cell_type": "markdown",
   "id": "d8bb7e7b",
   "metadata": {},
   "source": [
    "People who work frequently travel through flight will have better knowledge on best discount and right time to buy the ticket. For the business purpose many airline companies change prices according to the seasons or time duration. They will increase the price when people travel more. Estimating the highest prices of the airlines data for the route is collected with features such as Duration, Source, Destination, Arrival and Departure. Features are taken from chosen dataset and in the price wherein the airline price ticket costs vary overtime. we have implemented flight price prediction for users by using KNN, decision tree and random forest algorithms. Random Forest shows the best accuracy of 80% for predicting the flight price. also, we have done correlation tests and metrics for the statistical analysis."
   ]
  },
  {
   "cell_type": "markdown",
   "id": "d1b2cc64",
   "metadata": {},
   "source": [
    "## IMPORTING LIBRARIES"
   ]
  },
  {
   "cell_type": "code",
   "execution_count": 1,
   "id": "e8ed257c",
   "metadata": {},
   "outputs": [],
   "source": [
    "import pandas as pd\n",
    "import matplotlib.pyplot as plt\n",
    "import seaborn as sns\n",
    "import numpy as np\n",
    "from sklearn.model_selection import train_test_split\n",
    "from sklearn.linear_model import LogisticRegression\n",
    "from sklearn.metrics import accuracy_score\n",
    "from sklearn.metrics import f1_score\n",
    "from sklearn.metrics import confusion_matrix\n",
    "import warnings\n",
    "from matplotlib.axes import Axes\n",
    "warnings.filterwarnings('ignore')"
   ]
  },
  {
   "cell_type": "markdown",
   "id": "adbe6dcf",
   "metadata": {},
   "source": [
    "## LOADING DATA"
   ]
  },
  {
   "cell_type": "code",
   "execution_count": 2,
   "id": "d04b11c8",
   "metadata": {},
   "outputs": [
    {
     "data": {
      "text/html": [
       "<div>\n",
       "<style scoped>\n",
       "    .dataframe tbody tr th:only-of-type {\n",
       "        vertical-align: middle;\n",
       "    }\n",
       "\n",
       "    .dataframe tbody tr th {\n",
       "        vertical-align: top;\n",
       "    }\n",
       "\n",
       "    .dataframe thead th {\n",
       "        text-align: right;\n",
       "    }\n",
       "</style>\n",
       "<table border=\"1\" class=\"dataframe\">\n",
       "  <thead>\n",
       "    <tr style=\"text-align: right;\">\n",
       "      <th></th>\n",
       "      <th>Unnamed: 0</th>\n",
       "      <th>airline</th>\n",
       "      <th>flight</th>\n",
       "      <th>source_city</th>\n",
       "      <th>departure_time</th>\n",
       "      <th>stops</th>\n",
       "      <th>arrival_time</th>\n",
       "      <th>destination_city</th>\n",
       "      <th>class</th>\n",
       "      <th>duration</th>\n",
       "      <th>days_left</th>\n",
       "      <th>price</th>\n",
       "    </tr>\n",
       "  </thead>\n",
       "  <tbody>\n",
       "    <tr>\n",
       "      <th>0</th>\n",
       "      <td>0</td>\n",
       "      <td>SpiceJet</td>\n",
       "      <td>SG-8709</td>\n",
       "      <td>Delhi</td>\n",
       "      <td>Evening</td>\n",
       "      <td>zero</td>\n",
       "      <td>Night</td>\n",
       "      <td>Mumbai</td>\n",
       "      <td>Economy</td>\n",
       "      <td>2.17</td>\n",
       "      <td>1</td>\n",
       "      <td>5953</td>\n",
       "    </tr>\n",
       "    <tr>\n",
       "      <th>1</th>\n",
       "      <td>1</td>\n",
       "      <td>SpiceJet</td>\n",
       "      <td>SG-8157</td>\n",
       "      <td>Delhi</td>\n",
       "      <td>Early_Morning</td>\n",
       "      <td>zero</td>\n",
       "      <td>Morning</td>\n",
       "      <td>Mumbai</td>\n",
       "      <td>Economy</td>\n",
       "      <td>2.33</td>\n",
       "      <td>1</td>\n",
       "      <td>5953</td>\n",
       "    </tr>\n",
       "    <tr>\n",
       "      <th>2</th>\n",
       "      <td>2</td>\n",
       "      <td>AirAsia</td>\n",
       "      <td>I5-764</td>\n",
       "      <td>Delhi</td>\n",
       "      <td>Early_Morning</td>\n",
       "      <td>zero</td>\n",
       "      <td>Early_Morning</td>\n",
       "      <td>Mumbai</td>\n",
       "      <td>Economy</td>\n",
       "      <td>2.17</td>\n",
       "      <td>1</td>\n",
       "      <td>5956</td>\n",
       "    </tr>\n",
       "    <tr>\n",
       "      <th>3</th>\n",
       "      <td>3</td>\n",
       "      <td>Vistara</td>\n",
       "      <td>UK-995</td>\n",
       "      <td>Delhi</td>\n",
       "      <td>Morning</td>\n",
       "      <td>zero</td>\n",
       "      <td>Afternoon</td>\n",
       "      <td>Mumbai</td>\n",
       "      <td>Economy</td>\n",
       "      <td>2.25</td>\n",
       "      <td>1</td>\n",
       "      <td>5955</td>\n",
       "    </tr>\n",
       "    <tr>\n",
       "      <th>4</th>\n",
       "      <td>4</td>\n",
       "      <td>Vistara</td>\n",
       "      <td>UK-963</td>\n",
       "      <td>Delhi</td>\n",
       "      <td>Morning</td>\n",
       "      <td>zero</td>\n",
       "      <td>Morning</td>\n",
       "      <td>Mumbai</td>\n",
       "      <td>Economy</td>\n",
       "      <td>2.33</td>\n",
       "      <td>1</td>\n",
       "      <td>5955</td>\n",
       "    </tr>\n",
       "    <tr>\n",
       "      <th>...</th>\n",
       "      <td>...</td>\n",
       "      <td>...</td>\n",
       "      <td>...</td>\n",
       "      <td>...</td>\n",
       "      <td>...</td>\n",
       "      <td>...</td>\n",
       "      <td>...</td>\n",
       "      <td>...</td>\n",
       "      <td>...</td>\n",
       "      <td>...</td>\n",
       "      <td>...</td>\n",
       "      <td>...</td>\n",
       "    </tr>\n",
       "    <tr>\n",
       "      <th>300148</th>\n",
       "      <td>300148</td>\n",
       "      <td>Vistara</td>\n",
       "      <td>UK-822</td>\n",
       "      <td>Chennai</td>\n",
       "      <td>Morning</td>\n",
       "      <td>one</td>\n",
       "      <td>Evening</td>\n",
       "      <td>Hyderabad</td>\n",
       "      <td>Business</td>\n",
       "      <td>10.08</td>\n",
       "      <td>49</td>\n",
       "      <td>69265</td>\n",
       "    </tr>\n",
       "    <tr>\n",
       "      <th>300149</th>\n",
       "      <td>300149</td>\n",
       "      <td>Vistara</td>\n",
       "      <td>UK-826</td>\n",
       "      <td>Chennai</td>\n",
       "      <td>Afternoon</td>\n",
       "      <td>one</td>\n",
       "      <td>Night</td>\n",
       "      <td>Hyderabad</td>\n",
       "      <td>Business</td>\n",
       "      <td>10.42</td>\n",
       "      <td>49</td>\n",
       "      <td>77105</td>\n",
       "    </tr>\n",
       "    <tr>\n",
       "      <th>300150</th>\n",
       "      <td>300150</td>\n",
       "      <td>Vistara</td>\n",
       "      <td>UK-832</td>\n",
       "      <td>Chennai</td>\n",
       "      <td>Early_Morning</td>\n",
       "      <td>one</td>\n",
       "      <td>Night</td>\n",
       "      <td>Hyderabad</td>\n",
       "      <td>Business</td>\n",
       "      <td>13.83</td>\n",
       "      <td>49</td>\n",
       "      <td>79099</td>\n",
       "    </tr>\n",
       "    <tr>\n",
       "      <th>300151</th>\n",
       "      <td>300151</td>\n",
       "      <td>Vistara</td>\n",
       "      <td>UK-828</td>\n",
       "      <td>Chennai</td>\n",
       "      <td>Early_Morning</td>\n",
       "      <td>one</td>\n",
       "      <td>Evening</td>\n",
       "      <td>Hyderabad</td>\n",
       "      <td>Business</td>\n",
       "      <td>10.00</td>\n",
       "      <td>49</td>\n",
       "      <td>81585</td>\n",
       "    </tr>\n",
       "    <tr>\n",
       "      <th>300152</th>\n",
       "      <td>300152</td>\n",
       "      <td>Vistara</td>\n",
       "      <td>UK-822</td>\n",
       "      <td>Chennai</td>\n",
       "      <td>Morning</td>\n",
       "      <td>one</td>\n",
       "      <td>Evening</td>\n",
       "      <td>Hyderabad</td>\n",
       "      <td>Business</td>\n",
       "      <td>10.08</td>\n",
       "      <td>49</td>\n",
       "      <td>81585</td>\n",
       "    </tr>\n",
       "  </tbody>\n",
       "</table>\n",
       "<p>300153 rows × 12 columns</p>\n",
       "</div>"
      ],
      "text/plain": [
       "        Unnamed: 0   airline   flight source_city departure_time stops  \\\n",
       "0                0  SpiceJet  SG-8709       Delhi        Evening  zero   \n",
       "1                1  SpiceJet  SG-8157       Delhi  Early_Morning  zero   \n",
       "2                2   AirAsia   I5-764       Delhi  Early_Morning  zero   \n",
       "3                3   Vistara   UK-995       Delhi        Morning  zero   \n",
       "4                4   Vistara   UK-963       Delhi        Morning  zero   \n",
       "...            ...       ...      ...         ...            ...   ...   \n",
       "300148      300148   Vistara   UK-822     Chennai        Morning   one   \n",
       "300149      300149   Vistara   UK-826     Chennai      Afternoon   one   \n",
       "300150      300150   Vistara   UK-832     Chennai  Early_Morning   one   \n",
       "300151      300151   Vistara   UK-828     Chennai  Early_Morning   one   \n",
       "300152      300152   Vistara   UK-822     Chennai        Morning   one   \n",
       "\n",
       "         arrival_time destination_city     class  duration  days_left  price  \n",
       "0               Night           Mumbai   Economy      2.17          1   5953  \n",
       "1             Morning           Mumbai   Economy      2.33          1   5953  \n",
       "2       Early_Morning           Mumbai   Economy      2.17          1   5956  \n",
       "3           Afternoon           Mumbai   Economy      2.25          1   5955  \n",
       "4             Morning           Mumbai   Economy      2.33          1   5955  \n",
       "...               ...              ...       ...       ...        ...    ...  \n",
       "300148        Evening        Hyderabad  Business     10.08         49  69265  \n",
       "300149          Night        Hyderabad  Business     10.42         49  77105  \n",
       "300150          Night        Hyderabad  Business     13.83         49  79099  \n",
       "300151        Evening        Hyderabad  Business     10.00         49  81585  \n",
       "300152        Evening        Hyderabad  Business     10.08         49  81585  \n",
       "\n",
       "[300153 rows x 12 columns]"
      ]
     },
     "execution_count": 2,
     "metadata": {},
     "output_type": "execute_result"
    }
   ],
   "source": [
    "df = pd.read_csv(\"Clean_Dataset.csv\")\n",
    "df"
   ]
  },
  {
   "cell_type": "markdown",
   "id": "cc773ac4",
   "metadata": {},
   "source": [
    "## DATA DICTIONARY"
   ]
  },
  {
   "cell_type": "markdown",
   "id": "f9364b77",
   "metadata": {},
   "source": [
    "The various features of the cleaned dataset are explained below: 1) Airline: The name of the airline company is stored in the airline column. It is a categorical feature having 6 different airlines.\n",
    "\n",
    "2) Flight: Flight stores information regarding the plane's flight code. It is a categorical feature.\n",
    "\n",
    "3) Source City: City from which the flight takes off. It is a categorical feature having 6 unique cities.\n",
    "\n",
    "4) Departure Time: This is a derived categorical feature obtained created by grouping time periods into bins. It stores information about the departure time and have 6 unique time labels.\n",
    "\n",
    "5) Stops: A categorical feature with 3 distinct values that stores the number of stops between the source and destination cities.\n",
    "\n",
    "6) Arrival Time: This is a derived categorical feature created by grouping time intervals into bins. It has six distinct time labels and keeps information about the arrival time.\n",
    "\n",
    "7) Destination City: City where the flight will land. It is a categorical feature having 6 unique cities.\n",
    "\n",
    "8) Class: A categorical feature that contains information on seat class; it has two distinct values: Business and Economy.\n",
    "\n",
    "9) Duration: A continuous feature that displays the overall amount of time it takes to travel between cities in hours.\n",
    "\n",
    "10) Days Left: This is a derived characteristic that is calculated by subtracting the trip date by the booking date.\n",
    "    \n",
    "11) Price: Target variable stores information of the ticket price."
   ]
  },
  {
   "cell_type": "markdown",
   "id": "44be0a8c",
   "metadata": {},
   "source": [
    "## EXPLORATORY DATA ANALYSIS"
   ]
  },
  {
   "cell_type": "code",
   "execution_count": 3,
   "id": "50576576",
   "metadata": {},
   "outputs": [
    {
     "data": {
      "text/plain": [
       "(300153, 12)"
      ]
     },
     "execution_count": 3,
     "metadata": {},
     "output_type": "execute_result"
    }
   ],
   "source": [
    "# SHAPE OF THE DATA SET\n",
    "df.shape"
   ]
  },
  {
   "cell_type": "code",
   "execution_count": 4,
   "id": "a1e0a937",
   "metadata": {},
   "outputs": [
    {
     "data": {
      "text/plain": [
       "Index(['Unnamed: 0', 'airline', 'flight', 'source_city', 'departure_time',\n",
       "       'stops', 'arrival_time', 'destination_city', 'class', 'duration',\n",
       "       'days_left', 'price'],\n",
       "      dtype='object')"
      ]
     },
     "execution_count": 4,
     "metadata": {},
     "output_type": "execute_result"
    }
   ],
   "source": [
    "# COLUMNS NAMES IN THE DATASET\n",
    "df.columns"
   ]
  },
  {
   "cell_type": "code",
   "execution_count": 5,
   "id": "684d5acc",
   "metadata": {},
   "outputs": [
    {
     "data": {
      "text/html": [
       "<div>\n",
       "<style scoped>\n",
       "    .dataframe tbody tr th:only-of-type {\n",
       "        vertical-align: middle;\n",
       "    }\n",
       "\n",
       "    .dataframe tbody tr th {\n",
       "        vertical-align: top;\n",
       "    }\n",
       "\n",
       "    .dataframe thead th {\n",
       "        text-align: right;\n",
       "    }\n",
       "</style>\n",
       "<table border=\"1\" class=\"dataframe\">\n",
       "  <thead>\n",
       "    <tr style=\"text-align: right;\">\n",
       "      <th></th>\n",
       "      <th>Unnamed: 0</th>\n",
       "      <th>airline</th>\n",
       "      <th>flight</th>\n",
       "      <th>source_city</th>\n",
       "      <th>departure_time</th>\n",
       "      <th>stops</th>\n",
       "      <th>arrival_time</th>\n",
       "      <th>destination_city</th>\n",
       "      <th>class</th>\n",
       "      <th>duration</th>\n",
       "      <th>days_left</th>\n",
       "      <th>price</th>\n",
       "    </tr>\n",
       "  </thead>\n",
       "  <tbody>\n",
       "    <tr>\n",
       "      <th>0</th>\n",
       "      <td>0</td>\n",
       "      <td>SpiceJet</td>\n",
       "      <td>SG-8709</td>\n",
       "      <td>Delhi</td>\n",
       "      <td>Evening</td>\n",
       "      <td>zero</td>\n",
       "      <td>Night</td>\n",
       "      <td>Mumbai</td>\n",
       "      <td>Economy</td>\n",
       "      <td>2.17</td>\n",
       "      <td>1</td>\n",
       "      <td>5953</td>\n",
       "    </tr>\n",
       "    <tr>\n",
       "      <th>1</th>\n",
       "      <td>1</td>\n",
       "      <td>SpiceJet</td>\n",
       "      <td>SG-8157</td>\n",
       "      <td>Delhi</td>\n",
       "      <td>Early_Morning</td>\n",
       "      <td>zero</td>\n",
       "      <td>Morning</td>\n",
       "      <td>Mumbai</td>\n",
       "      <td>Economy</td>\n",
       "      <td>2.33</td>\n",
       "      <td>1</td>\n",
       "      <td>5953</td>\n",
       "    </tr>\n",
       "    <tr>\n",
       "      <th>2</th>\n",
       "      <td>2</td>\n",
       "      <td>AirAsia</td>\n",
       "      <td>I5-764</td>\n",
       "      <td>Delhi</td>\n",
       "      <td>Early_Morning</td>\n",
       "      <td>zero</td>\n",
       "      <td>Early_Morning</td>\n",
       "      <td>Mumbai</td>\n",
       "      <td>Economy</td>\n",
       "      <td>2.17</td>\n",
       "      <td>1</td>\n",
       "      <td>5956</td>\n",
       "    </tr>\n",
       "    <tr>\n",
       "      <th>3</th>\n",
       "      <td>3</td>\n",
       "      <td>Vistara</td>\n",
       "      <td>UK-995</td>\n",
       "      <td>Delhi</td>\n",
       "      <td>Morning</td>\n",
       "      <td>zero</td>\n",
       "      <td>Afternoon</td>\n",
       "      <td>Mumbai</td>\n",
       "      <td>Economy</td>\n",
       "      <td>2.25</td>\n",
       "      <td>1</td>\n",
       "      <td>5955</td>\n",
       "    </tr>\n",
       "    <tr>\n",
       "      <th>4</th>\n",
       "      <td>4</td>\n",
       "      <td>Vistara</td>\n",
       "      <td>UK-963</td>\n",
       "      <td>Delhi</td>\n",
       "      <td>Morning</td>\n",
       "      <td>zero</td>\n",
       "      <td>Morning</td>\n",
       "      <td>Mumbai</td>\n",
       "      <td>Economy</td>\n",
       "      <td>2.33</td>\n",
       "      <td>1</td>\n",
       "      <td>5955</td>\n",
       "    </tr>\n",
       "  </tbody>\n",
       "</table>\n",
       "</div>"
      ],
      "text/plain": [
       "   Unnamed: 0   airline   flight source_city departure_time stops  \\\n",
       "0           0  SpiceJet  SG-8709       Delhi        Evening  zero   \n",
       "1           1  SpiceJet  SG-8157       Delhi  Early_Morning  zero   \n",
       "2           2   AirAsia   I5-764       Delhi  Early_Morning  zero   \n",
       "3           3   Vistara   UK-995       Delhi        Morning  zero   \n",
       "4           4   Vistara   UK-963       Delhi        Morning  zero   \n",
       "\n",
       "    arrival_time destination_city    class  duration  days_left  price  \n",
       "0          Night           Mumbai  Economy      2.17          1   5953  \n",
       "1        Morning           Mumbai  Economy      2.33          1   5953  \n",
       "2  Early_Morning           Mumbai  Economy      2.17          1   5956  \n",
       "3      Afternoon           Mumbai  Economy      2.25          1   5955  \n",
       "4        Morning           Mumbai  Economy      2.33          1   5955  "
      ]
     },
     "execution_count": 5,
     "metadata": {},
     "output_type": "execute_result"
    }
   ],
   "source": [
    "df.head()"
   ]
  },
  {
   "cell_type": "code",
   "execution_count": 6,
   "id": "f6ad1918",
   "metadata": {},
   "outputs": [
    {
     "name": "stdout",
     "output_type": "stream",
     "text": [
      "<class 'pandas.core.frame.DataFrame'>\n",
      "RangeIndex: 300153 entries, 0 to 300152\n",
      "Data columns (total 12 columns):\n",
      " #   Column            Non-Null Count   Dtype  \n",
      "---  ------            --------------   -----  \n",
      " 0   Unnamed: 0        300153 non-null  int64  \n",
      " 1   airline           300153 non-null  object \n",
      " 2   flight            300153 non-null  object \n",
      " 3   source_city       300153 non-null  object \n",
      " 4   departure_time    300153 non-null  object \n",
      " 5   stops             300153 non-null  object \n",
      " 6   arrival_time      300153 non-null  object \n",
      " 7   destination_city  300153 non-null  object \n",
      " 8   class             300153 non-null  object \n",
      " 9   duration          300153 non-null  float64\n",
      " 10  days_left         300153 non-null  int64  \n",
      " 11  price             300153 non-null  int64  \n",
      "dtypes: float64(1), int64(3), object(8)\n",
      "memory usage: 27.5+ MB\n"
     ]
    }
   ],
   "source": [
    "df.info()"
   ]
  },
  {
   "cell_type": "markdown",
   "id": "3d9611ee",
   "metadata": {},
   "source": [
    "* Our dataframe consists of 300153 rows and 11 columns.\n",
    "\n",
    "* Most of our data is not numerical."
   ]
  },
  {
   "cell_type": "code",
   "execution_count": 7,
   "id": "fffbf246",
   "metadata": {
    "scrolled": true
   },
   "outputs": [
    {
     "data": {
      "text/html": [
       "<div>\n",
       "<style scoped>\n",
       "    .dataframe tbody tr th:only-of-type {\n",
       "        vertical-align: middle;\n",
       "    }\n",
       "\n",
       "    .dataframe tbody tr th {\n",
       "        vertical-align: top;\n",
       "    }\n",
       "\n",
       "    .dataframe thead th {\n",
       "        text-align: right;\n",
       "    }\n",
       "</style>\n",
       "<table border=\"1\" class=\"dataframe\">\n",
       "  <thead>\n",
       "    <tr style=\"text-align: right;\">\n",
       "      <th></th>\n",
       "      <th>Unnamed: 0</th>\n",
       "      <th>duration</th>\n",
       "      <th>days_left</th>\n",
       "      <th>price</th>\n",
       "    </tr>\n",
       "  </thead>\n",
       "  <tbody>\n",
       "    <tr>\n",
       "      <th>count</th>\n",
       "      <td>300153.000000</td>\n",
       "      <td>300153.000000</td>\n",
       "      <td>300153.000000</td>\n",
       "      <td>300153.000000</td>\n",
       "    </tr>\n",
       "    <tr>\n",
       "      <th>mean</th>\n",
       "      <td>150076.000000</td>\n",
       "      <td>12.221021</td>\n",
       "      <td>26.004751</td>\n",
       "      <td>20889.660523</td>\n",
       "    </tr>\n",
       "    <tr>\n",
       "      <th>std</th>\n",
       "      <td>86646.852011</td>\n",
       "      <td>7.191997</td>\n",
       "      <td>13.561004</td>\n",
       "      <td>22697.767366</td>\n",
       "    </tr>\n",
       "    <tr>\n",
       "      <th>min</th>\n",
       "      <td>0.000000</td>\n",
       "      <td>0.830000</td>\n",
       "      <td>1.000000</td>\n",
       "      <td>1105.000000</td>\n",
       "    </tr>\n",
       "    <tr>\n",
       "      <th>25%</th>\n",
       "      <td>75038.000000</td>\n",
       "      <td>6.830000</td>\n",
       "      <td>15.000000</td>\n",
       "      <td>4783.000000</td>\n",
       "    </tr>\n",
       "    <tr>\n",
       "      <th>50%</th>\n",
       "      <td>150076.000000</td>\n",
       "      <td>11.250000</td>\n",
       "      <td>26.000000</td>\n",
       "      <td>7425.000000</td>\n",
       "    </tr>\n",
       "    <tr>\n",
       "      <th>75%</th>\n",
       "      <td>225114.000000</td>\n",
       "      <td>16.170000</td>\n",
       "      <td>38.000000</td>\n",
       "      <td>42521.000000</td>\n",
       "    </tr>\n",
       "    <tr>\n",
       "      <th>max</th>\n",
       "      <td>300152.000000</td>\n",
       "      <td>49.830000</td>\n",
       "      <td>49.000000</td>\n",
       "      <td>123071.000000</td>\n",
       "    </tr>\n",
       "  </tbody>\n",
       "</table>\n",
       "</div>"
      ],
      "text/plain": [
       "          Unnamed: 0       duration      days_left          price\n",
       "count  300153.000000  300153.000000  300153.000000  300153.000000\n",
       "mean   150076.000000      12.221021      26.004751   20889.660523\n",
       "std     86646.852011       7.191997      13.561004   22697.767366\n",
       "min         0.000000       0.830000       1.000000    1105.000000\n",
       "25%     75038.000000       6.830000      15.000000    4783.000000\n",
       "50%    150076.000000      11.250000      26.000000    7425.000000\n",
       "75%    225114.000000      16.170000      38.000000   42521.000000\n",
       "max    300152.000000      49.830000      49.000000  123071.000000"
      ]
     },
     "execution_count": 7,
     "metadata": {},
     "output_type": "execute_result"
    }
   ],
   "source": [
    "df.describe()"
   ]
  },
  {
   "cell_type": "markdown",
   "id": "bb2f393f",
   "metadata": {},
   "source": [
    "* Our duration feature is slightly right skewed distribution.\n",
    "* Price is highly skewed to the right, so most of the values lie in left tail.\n",
    "* Standard Deviation for price is high so there is greater dispersion in data points."
   ]
  },
  {
   "cell_type": "code",
   "execution_count": 8,
   "id": "cb0b5f48",
   "metadata": {},
   "outputs": [
    {
     "data": {
      "image/png": "[encoded data removed]",
      "text/plain": [
       "<Figure size 432x288 with 1 Axes>"
      ]
     },
     "metadata": {
      "needs_background": "light"
     },
     "output_type": "display_data"
    }
   ],
   "source": [
    "sns.histplot(df['price'], kde=True, )\n",
    "plt.show()"
   ]
  },
  {
   "cell_type": "code",
   "execution_count": 9,
   "id": "4b5af016",
   "metadata": {},
   "outputs": [
    {
     "data": {
      "text/plain": [
       "Unnamed: 0          300153\n",
       "airline                  6\n",
       "flight                1561\n",
       "source_city              6\n",
       "departure_time           6\n",
       "stops                    3\n",
       "arrival_time             6\n",
       "destination_city         6\n",
       "class                    2\n",
       "duration               476\n",
       "days_left               49\n",
       "price                12157\n",
       "dtype: int64"
      ]
     },
     "execution_count": 9,
     "metadata": {},
     "output_type": "execute_result"
    }
   ],
   "source": [
    "df.nunique()"
   ]
  },
  {
   "cell_type": "code",
   "execution_count": 10,
   "id": "f73a16e2",
   "metadata": {},
   "outputs": [
    {
     "data": {
      "text/html": [
       "<div>\n",
       "<style scoped>\n",
       "    .dataframe tbody tr th:only-of-type {\n",
       "        vertical-align: middle;\n",
       "    }\n",
       "\n",
       "    .dataframe tbody tr th {\n",
       "        vertical-align: top;\n",
       "    }\n",
       "\n",
       "    .dataframe thead th {\n",
       "        text-align: right;\n",
       "    }\n",
       "</style>\n",
       "<table border=\"1\" class=\"dataframe\">\n",
       "  <thead>\n",
       "    <tr style=\"text-align: right;\">\n",
       "      <th></th>\n",
       "      <th>Unnamed: 0</th>\n",
       "      <th>airline</th>\n",
       "      <th>flight</th>\n",
       "      <th>source_city</th>\n",
       "      <th>departure_time</th>\n",
       "      <th>stops</th>\n",
       "      <th>arrival_time</th>\n",
       "      <th>destination_city</th>\n",
       "      <th>class</th>\n",
       "      <th>duration</th>\n",
       "      <th>days_left</th>\n",
       "      <th>price</th>\n",
       "    </tr>\n",
       "  </thead>\n",
       "  <tbody>\n",
       "  </tbody>\n",
       "</table>\n",
       "</div>"
      ],
      "text/plain": [
       "Empty DataFrame\n",
       "Columns: [Unnamed: 0, airline, flight, source_city, departure_time, stops, arrival_time, destination_city, class, duration, days_left, price]\n",
       "Index: []"
      ]
     },
     "execution_count": 10,
     "metadata": {},
     "output_type": "execute_result"
    }
   ],
   "source": [
    "df.loc[df.duplicated()]"
   ]
  },
  {
   "cell_type": "markdown",
   "id": "1fbd42b5",
   "metadata": {},
   "source": [
    "* No duplicate data in the dataset."
   ]
  },
  {
   "cell_type": "markdown",
   "id": "fcf5c9aa",
   "metadata": {},
   "source": [
    "## DATA CLEANING"
   ]
  },
  {
   "cell_type": "code",
   "execution_count": 11,
   "id": "c9983ae6",
   "metadata": {},
   "outputs": [],
   "source": [
    "categorical_cols = ['airline','source_city','departure_time', 'arrival_time', 'destination_city','class']"
   ]
  },
  {
   "cell_type": "code",
   "execution_count": 12,
   "id": "f0a06e10",
   "metadata": {},
   "outputs": [],
   "source": [
    "df.drop('Unnamed: 0', axis = 1, inplace = True)"
   ]
  },
  {
   "cell_type": "code",
   "execution_count": 13,
   "id": "d08260cc",
   "metadata": {},
   "outputs": [
    {
     "data": {
      "text/plain": [
       "airline             0\n",
       "flight              0\n",
       "source_city         0\n",
       "departure_time      0\n",
       "stops               0\n",
       "arrival_time        0\n",
       "destination_city    0\n",
       "class               0\n",
       "duration            0\n",
       "days_left           0\n",
       "price               0\n",
       "dtype: int64"
      ]
     },
     "execution_count": 13,
     "metadata": {},
     "output_type": "execute_result"
    }
   ],
   "source": [
    "df.isnull().sum()"
   ]
  },
  {
   "cell_type": "markdown",
   "id": "487e8a3a",
   "metadata": {},
   "source": [
    "* The dataset looks clean already so we will see for any useless columns by checking column values"
   ]
  },
  {
   "cell_type": "code",
   "execution_count": 14,
   "id": "5ff3dd7d",
   "metadata": {},
   "outputs": [
    {
     "name": "stdout",
     "output_type": "stream",
     "text": [
      "Vistara      127859\n",
      "Air_India     80892\n",
      "Indigo        43120\n",
      "GO_FIRST      23173\n",
      "AirAsia       16098\n",
      "SpiceJet       9011\n",
      "Name: airline, dtype: int64\n",
      "*******************\n",
      "Delhi        61343\n",
      "Mumbai       60896\n",
      "Bangalore    52061\n",
      "Kolkata      46347\n",
      "Hyderabad    40806\n",
      "Chennai      38700\n",
      "Name: source_city, dtype: int64\n",
      "*******************\n",
      "Morning          71146\n",
      "Early_Morning    66790\n",
      "Evening          65102\n",
      "Night            48015\n",
      "Afternoon        47794\n",
      "Late_Night        1306\n",
      "Name: departure_time, dtype: int64\n",
      "*******************\n",
      "Night            91538\n",
      "Evening          78323\n",
      "Morning          62735\n",
      "Afternoon        38139\n",
      "Early_Morning    15417\n",
      "Late_Night       14001\n",
      "Name: arrival_time, dtype: int64\n",
      "*******************\n",
      "Mumbai       59097\n",
      "Delhi        57360\n",
      "Bangalore    51068\n",
      "Kolkata      49534\n",
      "Hyderabad    42726\n",
      "Chennai      40368\n",
      "Name: destination_city, dtype: int64\n",
      "*******************\n",
      "Economy     206666\n",
      "Business     93487\n",
      "Name: class, dtype: int64\n",
      "*******************\n"
     ]
    }
   ],
   "source": [
    "for i in categorical_cols:\n",
    "    a = df[i].value_counts()\n",
    "    print(a)\n",
    "    print(\"*******************\")"
   ]
  },
  {
   "cell_type": "markdown",
   "id": "35db925f",
   "metadata": {},
   "source": [
    "## DATA VISUALIZATION"
   ]
  },
  {
   "cell_type": "code",
   "execution_count": 15,
   "id": "b4ec0566",
   "metadata": {},
   "outputs": [
    {
     "data": {
      "image/png": "[encoded data removed]",
      "text/plain": [
       "<Figure size 432x288 with 1 Axes>"
      ]
     },
     "metadata": {
      "needs_background": "light"
     },
     "output_type": "display_data"
    }
   ],
   "source": [
    "ax = sns.countplot(data= df, y= 'source_city')\n",
    "# Set label for each bar in countplot: \n",
    "for container in ax.containers:\n",
    "    ax.bar_label(container,label_type= 'edge')\n",
    "\n",
    "ax.set_title('Count of source cities in the dataset')\n",
    "ax.set_ylabel('Source cities')\n",
    "ax.set_xlabel('Count')\n",
    "ax.set_xlim([0, 7e4])\n",
    "plt.show()"
   ]
  },
  {
   "cell_type": "markdown",
   "id": "f624f0f9",
   "metadata": {},
   "source": [
    "* Delhi and Mombai are the origin cities of the most frequent flights in the dataset."
   ]
  },
  {
   "cell_type": "code",
   "execution_count": 16,
   "id": "d35bbc3d",
   "metadata": {},
   "outputs": [
    {
     "data": {
      "text/plain": [
       "<Axes: xlabel='destination_city'>"
      ]
     },
     "execution_count": 16,
     "metadata": {},
     "output_type": "execute_result"
    },
    {
     "data": {
      "image/png": "[encoded data removed]",
      "text/plain": [
       "<Figure size 432x288 with 1 Axes>"
      ]
     },
     "metadata": {
      "needs_background": "light"
     },
     "output_type": "display_data"
    }
   ],
   "source": [
    "df.groupby(\"destination_city\")['price'].mean().plot.bar()"
   ]
  },
  {
   "cell_type": "markdown",
   "id": "48324e96",
   "metadata": {},
   "source": [
    "* Prices of Destination cities mapped to avg prices"
   ]
  },
  {
   "cell_type": "code",
   "execution_count": 17,
   "id": "f097c813",
   "metadata": {},
   "outputs": [
    {
     "data": {
      "text/plain": [
       "([<matplotlib.patches.Wedge at 0x1df59241f40>,\n",
       "  <matplotlib.patches.Wedge at 0x1df59241e80>,\n",
       "  <matplotlib.patches.Wedge at 0x1df59251a90>,\n",
       "  <matplotlib.patches.Wedge at 0x1df591eb7f0>,\n",
       "  <matplotlib.patches.Wedge at 0x1df592671c0>,\n",
       "  <matplotlib.patches.Wedge at 0x1df59267850>],\n",
       " [Text(0.8809535489223089, 0.6587266843245301, 'Delhi'),\n",
       "  Text(-0.3779004059372413, 1.0330495066512875, 'Mumbai'),\n",
       "  Text(-1.0992131326110681, 0.04159914777206989, 'Bangalore'),\n",
       "  Text(-0.6015577367721227, -0.9209388086781889, 'Kolkata'),\n",
       "  Text(0.36016745105880016, -1.0393649056985748, 'Hyderabad'),\n",
       "  Text(1.0109871514258975, -0.43348007987882137, 'Chennai')],\n",
       " [Text(0.4805201175939866, 0.35930546417701636, '20.4%'),\n",
       "  Text(-0.20612749414758613, 0.5634815490825203, '20.3%'),\n",
       "  Text(-0.5995707996060371, 0.02269044423931085, '17.3%'),\n",
       "  Text(-0.32812240187570324, -0.5023302592790121, '15.4%'),\n",
       "  Text(0.19645497330480005, -0.5669263121992225, '13.6%'),\n",
       "  Text(0.5514475371413986, -0.23644367993390253, '12.9%')])"
      ]
     },
     "execution_count": 17,
     "metadata": {},
     "output_type": "execute_result"
    },
    {
     "data": {
      "image/png": "[encoded data removed]",
      "text/plain": [
       "<Figure size 432x288 with 1 Axes>"
      ]
     },
     "metadata": {},
     "output_type": "display_data"
    }
   ],
   "source": [
    "scity=df['source_city'].value_counts()\n",
    "plt.pie(scity.values,labels=scity.index,autopct='%1.1f%%')"
   ]
  },
  {
   "cell_type": "markdown",
   "id": "01f58d3f",
   "metadata": {},
   "source": [
    "## Does price vary with Airlines?"
   ]
  },
  {
   "cell_type": "code",
   "execution_count": 18,
   "id": "1cd1f0e4",
   "metadata": {},
   "outputs": [
    {
     "name": "stdout",
     "output_type": "stream",
     "text": [
      "Average price by airline:\n",
      "airline\n",
      "AirAsia       4091.072742\n",
      "Air_India    23507.019112\n",
      "GO_FIRST      5652.007595\n",
      "Indigo        5324.216303\n",
      "SpiceJet      6179.278881\n",
      "Vistara      30396.536302\n",
      "Name: price, dtype: float64\n"
     ]
    }
   ],
   "source": [
    "average_price_by_airline = df.groupby('airline')['price'].mean()\n",
    "print(\"Average price by airline:\")\n",
    "print(average_price_by_airline)"
   ]
  },
  {
   "cell_type": "code",
   "execution_count": 19,
   "id": "cab928c1",
   "metadata": {},
   "outputs": [
    {
     "data": {
      "image/png": "[encoded data removed]",
      "text/plain": [
       "<Figure size 864x432 with 1 Axes>"
      ]
     },
     "metadata": {
      "needs_background": "light"
     },
     "output_type": "display_data"
    }
   ],
   "source": [
    "plt.figure(figsize=(12, 6))\n",
    "sns.boxplot(x='airline', y='price', data=df)\n",
    "plt.xticks(rotation=45)\n",
    "plt.xlabel('Airline')\n",
    "plt.ylabel('Price')\n",
    "plt.title('Price Variation by Airlines')\n",
    "plt.show()"
   ]
  },
  {
   "cell_type": "markdown",
   "id": "dbdb9d97",
   "metadata": {},
   "source": [
    "Answer: It seems that Vistara and Air India have a higher price range."
   ]
  },
  {
   "cell_type": "markdown",
   "id": "3a6b35f2",
   "metadata": {},
   "source": [
    "## How are ticket prices affected when tickets are bought 1 or 2 days before flight?"
   ]
  },
  {
   "cell_type": "code",
   "execution_count": 20,
   "id": "56c9889f",
   "metadata": {},
   "outputs": [
    {
     "data": {
      "image/png": "[encoded data removed]",
      "text/plain": [
       "<Figure size 1440x432 with 1 Axes>"
      ]
     },
     "metadata": {
      "needs_background": "light"
     },
     "output_type": "display_data"
    }
   ],
   "source": [
    "plt.figure(figsize=(20,6))\n",
    "g = sns.lineplot(x='days_left', y='price', data=df, marker='o')\n",
    "g.set_xticks(range(1,51, 1))\n",
    "plt.show()"
   ]
  },
  {
   "cell_type": "markdown",
   "id": "15440120",
   "metadata": {},
   "source": [
    "Answer: On average ticket prices are the highest when bought 2 days before a flight"
   ]
  },
  {
   "cell_type": "markdown",
   "id": "6f14c27d",
   "metadata": {},
   "source": [
    "## Does ticket price change based on the departure time and arrival time?"
   ]
  },
  {
   "cell_type": "code",
   "execution_count": 21,
   "id": "1efd931c",
   "metadata": {},
   "outputs": [
    {
     "name": "stdout",
     "output_type": "stream",
     "text": [
      "Average price by departure time and arrival time:\n",
      "departure_time  arrival_time \n",
      "Afternoon       Afternoon        14741.746011\n",
      "                Early_Morning    21159.511401\n",
      "                Evening          15548.836651\n",
      "                Late_Night       10811.615662\n",
      "                Morning          26056.580994\n",
      "                Night            19097.798757\n",
      "Early_Morning   Afternoon        16564.731082\n",
      "                Early_Morning     9540.191523\n",
      "                Evening          24804.077441\n",
      "                Late_Night       29638.037500\n",
      "                Morning          12299.838792\n",
      "                Night            25792.007764\n",
      "Evening         Afternoon        25569.672277\n",
      "                Early_Morning    18175.929529\n",
      "                Evening          24612.547643\n",
      "                Late_Night        8547.029235\n",
      "                Morning          28326.216482\n",
      "                Night            15641.705242\n",
      "Late_Night      Afternoon        18520.684932\n",
      "                Early_Morning     4548.700599\n",
      "                Evening          21217.106383\n",
      "                Late_Night        4288.291971\n",
      "                Morning           7104.374684\n",
      "                Night            29439.811321\n",
      "Morning         Afternoon        13271.433547\n",
      "                Early_Morning    22625.786578\n",
      "                Evening          21636.529952\n",
      "                Late_Night       23624.505755\n",
      "                Morning          17548.738563\n",
      "                Night            26827.897551\n",
      "Night           Afternoon        28115.362126\n",
      "                Early_Morning    12075.785461\n",
      "                Evening          31425.824194\n",
      "                Late_Night        6590.831766\n",
      "                Morning          25573.642137\n",
      "                Night            17817.956009\n",
      "Name: price, dtype: float64\n"
     ]
    }
   ],
   "source": [
    "average_price_by_time = df.groupby(['departure_time', 'arrival_time'])['price'].mean()\n",
    "print(\"Average price by departure time and arrival time:\")\n",
    "print(average_price_by_time)"
   ]
  },
  {
   "cell_type": "code",
   "execution_count": 22,
   "id": "af106048",
   "metadata": {},
   "outputs": [
    {
     "data": {
      "image/png": "[encoded data removed]",
      "text/plain": [
       "<Figure size 864x432 with 1 Axes>"
      ]
     },
     "metadata": {
      "needs_background": "light"
     },
     "output_type": "display_data"
    }
   ],
   "source": [
    "plt.figure(figsize=(12, 6))\n",
    "sns.barplot(x='departure_time', y='price', hue='arrival_time', data=df)\n",
    "plt.xlabel('Departure Time')\n",
    "plt.ylabel('Price')\n",
    "plt.title('Price Variation by Departure and Arrival Time')\n",
    "plt.legend(title='Arrival Time')\n",
    "plt.show()"
   ]
  },
  {
   "cell_type": "markdown",
   "id": "5997a54f",
   "metadata": {},
   "source": [
    "Answer: \n",
    "* Early Morning arrivals seem to have a lower price range and median price overall\n",
    "* Late night arrival have the smallest price range and the lowest median price overall\n",
    "* Late night departures alsos have the smalles price range and smalles median price"
   ]
  },
  {
   "cell_type": "markdown",
   "id": "6b8eee9a",
   "metadata": {},
   "source": [
    "## How the price changes with change in Source and Destination?"
   ]
  },
  {
   "cell_type": "code",
   "execution_count": 23,
   "id": "e18976e8",
   "metadata": {},
   "outputs": [
    {
     "name": "stdout",
     "output_type": "stream",
     "text": [
      "Average price by source and destination:\n",
      "source_city  destination_city\n",
      "Bangalore    Chennai             23321.850078\n",
      "             Delhi               17723.313972\n",
      "             Hyderabad           21226.121192\n",
      "             Kolkata             23500.061229\n",
      "             Mumbai              23128.618672\n",
      "Chennai      Bangalore           25081.850454\n",
      "             Delhi               18981.863948\n",
      "             Hyderabad           21591.345404\n",
      "             Kolkata             22669.932407\n",
      "             Mumbai              22765.849647\n",
      "Delhi        Bangalore           17880.216315\n",
      "             Chennai             19369.881354\n",
      "             Hyderabad           17347.288379\n",
      "             Kolkata             20566.409418\n",
      "             Mumbai              19355.829812\n",
      "Hyderabad    Bangalore           21347.177998\n",
      "             Chennai             21848.065989\n",
      "             Delhi               17243.945685\n",
      "             Kolkata             20823.893201\n",
      "             Mumbai              20080.865759\n",
      "Kolkata      Bangalore           22744.808428\n",
      "             Chennai             23660.361040\n",
      "             Delhi               19422.354559\n",
      "             Hyderabad           21500.011397\n",
      "             Mumbai              22078.883579\n",
      "Mumbai       Bangalore           23147.873807\n",
      "             Chennai             22781.899112\n",
      "             Delhi               18725.320008\n",
      "             Hyderabad           21004.046705\n",
      "             Kolkata             22379.146723\n",
      "Name: price, dtype: float64\n"
     ]
    }
   ],
   "source": [
    "average_price_by_route = df.groupby(['source_city', 'destination_city'])['price'].mean()\n",
    "print(\"Average price by source and destination:\")\n",
    "print(average_price_by_route)"
   ]
  },
  {
   "cell_type": "code",
   "execution_count": 24,
   "id": "08033392",
   "metadata": {},
   "outputs": [
    {
     "data": {
      "image/png": "[encoded data removed]",
      "text/plain": [
       "<Figure size 720x576 with 2 Axes>"
      ]
     },
     "metadata": {
      "needs_background": "light"
     },
     "output_type": "display_data"
    }
   ],
   "source": [
    "pivot_table = df.pivot_table(index='source_city', columns='destination_city', values='price', aggfunc=np.mean)\n",
    "plt.figure(figsize=(10, 8))\n",
    "sns.heatmap(pivot_table, annot=True, fmt=\".0f\", cmap=\"YlGnBu\")\n",
    "plt.xlabel('Destination City')\n",
    "plt.ylabel('Source City')\n",
    "plt.title('Price Variation by Source and Destination')\n",
    "plt.show()"
   ]
  },
  {
   "cell_type": "markdown",
   "id": "91df3689",
   "metadata": {},
   "source": [
    "## How does the ticket price vary between Economy and Business class?"
   ]
  },
  {
   "cell_type": "code",
   "execution_count": 25,
   "id": "c77cb101",
   "metadata": {},
   "outputs": [
    {
     "name": "stdout",
     "output_type": "stream",
     "text": [
      "Average price by class:\n",
      "class\n",
      "Business    52540.081124\n",
      "Economy      6572.342383\n",
      "Name: price, dtype: float64\n"
     ]
    }
   ],
   "source": [
    "average_price_by_class = df.groupby('class')['price'].mean()\n",
    "print(\"Average price by class:\")\n",
    "print(average_price_by_class)\n"
   ]
  },
  {
   "cell_type": "code",
   "execution_count": 26,
   "id": "9ba27da0",
   "metadata": {},
   "outputs": [
    {
     "data": {
      "image/png": "[encoded data removed]",
      "text/plain": [
       "<Figure size 720x432 with 1 Axes>"
      ]
     },
     "metadata": {
      "needs_background": "light"
     },
     "output_type": "display_data"
    }
   ],
   "source": [
    "plt.figure(figsize=(10, 6))\n",
    "sns.boxplot(x='class', y='price', data=df)\n",
    "plt.xlabel('Class')\n",
    "plt.ylabel('Price')\n",
    "plt.title('Price Variation by Class')\n",
    "plt.show()"
   ]
  },
  {
   "cell_type": "markdown",
   "id": "08432127",
   "metadata": {},
   "source": [
    "Answer: It is clear that prices are higher in Business Class"
   ]
  },
  {
   "cell_type": "markdown",
   "id": "94764624",
   "metadata": {},
   "source": [
    "## How are ticket prices affected when tickets are bought 1 or 2 days before flight?"
   ]
  },
  {
   "cell_type": "code",
   "execution_count": 27,
   "id": "e883197e",
   "metadata": {},
   "outputs": [
    {
     "data": {
      "image/png": "[encoded data removed]",
      "text/plain": [
       "<Figure size 1440x432 with 1 Axes>"
      ]
     },
     "metadata": {
      "needs_background": "light"
     },
     "output_type": "display_data"
    }
   ],
   "source": [
    "plt.figure(figsize=(20,6))\n",
    "g = sns.lineplot(x='days_left', y='price', data=df, marker='o')\n",
    "g.set_xticks(range(1,51, 1))\n",
    "plt.show()"
   ]
  },
  {
   "cell_type": "markdown",
   "id": "5ca02edf",
   "metadata": {},
   "source": [
    "Answer: On average ticket prices are the highest when bought 2 days before a flight\n"
   ]
  },
  {
   "cell_type": "code",
   "execution_count": 28,
   "id": "c6f73ee8",
   "metadata": {},
   "outputs": [],
   "source": [
    "df[['airline_code', 'flight_number']] = df['flight'].str.split('-', n=1, expand=True)\n",
    "df.drop(\"flight\", axis = 1, inplace = True)\n",
    "df.drop(\"airline_code\", axis = 1, inplace = True)\n",
    "df['flight_number'] = df['flight_number'].astype('int')"
   ]
  },
  {
   "cell_type": "code",
   "execution_count": 29,
   "id": "de06eb19",
   "metadata": {},
   "outputs": [
    {
     "data": {
      "text/html": [
       "<div>\n",
       "<style scoped>\n",
       "    .dataframe tbody tr th:only-of-type {\n",
       "        vertical-align: middle;\n",
       "    }\n",
       "\n",
       "    .dataframe tbody tr th {\n",
       "        vertical-align: top;\n",
       "    }\n",
       "\n",
       "    .dataframe thead th {\n",
       "        text-align: right;\n",
       "    }\n",
       "</style>\n",
       "<table border=\"1\" class=\"dataframe\">\n",
       "  <thead>\n",
       "    <tr style=\"text-align: right;\">\n",
       "      <th></th>\n",
       "      <th>airline</th>\n",
       "      <th>source_city</th>\n",
       "      <th>departure_time</th>\n",
       "      <th>stops</th>\n",
       "      <th>arrival_time</th>\n",
       "      <th>destination_city</th>\n",
       "      <th>class</th>\n",
       "      <th>duration</th>\n",
       "      <th>days_left</th>\n",
       "      <th>price</th>\n",
       "      <th>flight_number</th>\n",
       "    </tr>\n",
       "  </thead>\n",
       "  <tbody>\n",
       "    <tr>\n",
       "      <th>0</th>\n",
       "      <td>SpiceJet</td>\n",
       "      <td>Delhi</td>\n",
       "      <td>Evening</td>\n",
       "      <td>zero</td>\n",
       "      <td>Night</td>\n",
       "      <td>Mumbai</td>\n",
       "      <td>Economy</td>\n",
       "      <td>2.17</td>\n",
       "      <td>1</td>\n",
       "      <td>5953</td>\n",
       "      <td>8709</td>\n",
       "    </tr>\n",
       "    <tr>\n",
       "      <th>1</th>\n",
       "      <td>SpiceJet</td>\n",
       "      <td>Delhi</td>\n",
       "      <td>Early_Morning</td>\n",
       "      <td>zero</td>\n",
       "      <td>Morning</td>\n",
       "      <td>Mumbai</td>\n",
       "      <td>Economy</td>\n",
       "      <td>2.33</td>\n",
       "      <td>1</td>\n",
       "      <td>5953</td>\n",
       "      <td>8157</td>\n",
       "    </tr>\n",
       "    <tr>\n",
       "      <th>2</th>\n",
       "      <td>AirAsia</td>\n",
       "      <td>Delhi</td>\n",
       "      <td>Early_Morning</td>\n",
       "      <td>zero</td>\n",
       "      <td>Early_Morning</td>\n",
       "      <td>Mumbai</td>\n",
       "      <td>Economy</td>\n",
       "      <td>2.17</td>\n",
       "      <td>1</td>\n",
       "      <td>5956</td>\n",
       "      <td>764</td>\n",
       "    </tr>\n",
       "    <tr>\n",
       "      <th>3</th>\n",
       "      <td>Vistara</td>\n",
       "      <td>Delhi</td>\n",
       "      <td>Morning</td>\n",
       "      <td>zero</td>\n",
       "      <td>Afternoon</td>\n",
       "      <td>Mumbai</td>\n",
       "      <td>Economy</td>\n",
       "      <td>2.25</td>\n",
       "      <td>1</td>\n",
       "      <td>5955</td>\n",
       "      <td>995</td>\n",
       "    </tr>\n",
       "    <tr>\n",
       "      <th>4</th>\n",
       "      <td>Vistara</td>\n",
       "      <td>Delhi</td>\n",
       "      <td>Morning</td>\n",
       "      <td>zero</td>\n",
       "      <td>Morning</td>\n",
       "      <td>Mumbai</td>\n",
       "      <td>Economy</td>\n",
       "      <td>2.33</td>\n",
       "      <td>1</td>\n",
       "      <td>5955</td>\n",
       "      <td>963</td>\n",
       "    </tr>\n",
       "  </tbody>\n",
       "</table>\n",
       "</div>"
      ],
      "text/plain": [
       "    airline source_city departure_time stops   arrival_time destination_city  \\\n",
       "0  SpiceJet       Delhi        Evening  zero          Night           Mumbai   \n",
       "1  SpiceJet       Delhi  Early_Morning  zero        Morning           Mumbai   \n",
       "2   AirAsia       Delhi  Early_Morning  zero  Early_Morning           Mumbai   \n",
       "3   Vistara       Delhi        Morning  zero      Afternoon           Mumbai   \n",
       "4   Vistara       Delhi        Morning  zero        Morning           Mumbai   \n",
       "\n",
       "     class  duration  days_left  price  flight_number  \n",
       "0  Economy      2.17          1   5953           8709  \n",
       "1  Economy      2.33          1   5953           8157  \n",
       "2  Economy      2.17          1   5956            764  \n",
       "3  Economy      2.25          1   5955            995  \n",
       "4  Economy      2.33          1   5955            963  "
      ]
     },
     "execution_count": 29,
     "metadata": {},
     "output_type": "execute_result"
    }
   ],
   "source": [
    "df.head()"
   ]
  },
  {
   "cell_type": "markdown",
   "id": "039c8ee1",
   "metadata": {},
   "source": [
    "## MODELLING"
   ]
  },
  {
   "cell_type": "code",
   "execution_count": 30,
   "id": "bcc939a3",
   "metadata": {},
   "outputs": [],
   "source": [
    "from sklearn.metrics import mean_absolute_error, mean_squared_error, r2_score\n",
    "from sklearn.preprocessing import LabelEncoder\n",
    "le = LabelEncoder()  "
   ]
  },
  {
   "cell_type": "code",
   "execution_count": 31,
   "id": "685cb11e",
   "metadata": {},
   "outputs": [],
   "source": [
    "df['stops'] = df['stops'].replace({'one': 1,\n",
    "                                   'zero': 0,\n",
    "                                   'two_or_more': 2})"
   ]
  },
  {
   "cell_type": "code",
   "execution_count": 32,
   "id": "3eec825a",
   "metadata": {},
   "outputs": [],
   "source": [
    "df[categorical_cols] = df[categorical_cols].apply(le.fit_transform)"
   ]
  },
  {
   "cell_type": "code",
   "execution_count": 33,
   "id": "0ef83fe8",
   "metadata": {},
   "outputs": [],
   "source": [
    "x = df.drop('price', axis = 1)\n",
    "y = df['price']"
   ]
  },
  {
   "cell_type": "code",
   "execution_count": 34,
   "id": "27855d82",
   "metadata": {},
   "outputs": [],
   "source": [
    "x_train, x_test, y_train, y_test = train_test_split(x,y, test_size = 0.2)"
   ]
  },
  {
   "cell_type": "markdown",
   "id": "df74e7fd",
   "metadata": {},
   "source": [
    "### LINEAR REGRESSION"
   ]
  },
  {
   "cell_type": "code",
   "execution_count": 35,
   "id": "97ecff32",
   "metadata": {},
   "outputs": [
    {
     "data": {
      "text/plain": [
       "LinearRegression()"
      ]
     },
     "execution_count": 35,
     "metadata": {},
     "output_type": "execute_result"
    }
   ],
   "source": [
    "from sklearn.linear_model import LinearRegression\n",
    "linearreg = LinearRegression()\n",
    "linearreg.fit(x_train,y_train)"
   ]
  },
  {
   "cell_type": "code",
   "execution_count": 36,
   "id": "6aeffd7f",
   "metadata": {},
   "outputs": [
    {
     "data": {
      "text/plain": [
       "44285.68727775421"
      ]
     },
     "execution_count": 36,
     "metadata": {},
     "output_type": "execute_result"
    }
   ],
   "source": [
    "linearreg.intercept_"
   ]
  },
  {
   "cell_type": "code",
   "execution_count": 37,
   "id": "7afa8369",
   "metadata": {},
   "outputs": [
    {
     "data": {
      "text/plain": [
       "array([ 9.63465582e+02,  1.15737706e+02,  9.14531031e+01,  6.12611694e+03,\n",
       "        1.66181766e+02,  1.66310918e+02, -4.50754881e+04,  7.13495989e+01,\n",
       "       -1.29348225e+02,  1.68507746e-02])"
      ]
     },
     "execution_count": 37,
     "metadata": {},
     "output_type": "execute_result"
    }
   ],
   "source": [
    "linearreg.coef_"
   ]
  },
  {
   "cell_type": "code",
   "execution_count": 38,
   "id": "d4f40e15",
   "metadata": {},
   "outputs": [
    {
     "name": "stdout",
     "output_type": "stream",
     "text": [
      "RMSE: 6946.093958184002\n",
      "MAE: 67.33154740818281\n",
      "R^2: 0.9057455988441344\n"
     ]
    }
   ],
   "source": [
    "y_pred = linearreg.predict(x_test)\n",
    "print(f\"RMSE: {np.sqrt(mean_squared_error(y_test, y_pred))}\")\n",
    "print(f\"MAE: {np.sqrt(mean_absolute_error(y_test, y_pred))}\")\n",
    "print(f\"R^2: {r2_score(y_test, y_pred)}\")"
   ]
  },
  {
   "cell_type": "code",
   "execution_count": 39,
   "id": "0e9fd896",
   "metadata": {},
   "outputs": [
    {
     "data": {
      "text/plain": [
       "0.9057455988441344"
      ]
     },
     "execution_count": 39,
     "metadata": {},
     "output_type": "execute_result"
    }
   ],
   "source": [
    "lr_score = linearreg.score(x_test,y_test)\n",
    "lr_score"
   ]
  },
  {
   "cell_type": "markdown",
   "id": "657658ad",
   "metadata": {},
   "source": [
    "### DECISION TREE REGRESSION"
   ]
  },
  {
   "cell_type": "code",
   "execution_count": 40,
   "id": "c0fd1c96",
   "metadata": {},
   "outputs": [
    {
     "data": {
      "text/plain": [
       "DecisionTreeRegressor(max_depth=40, min_samples_leaf=2, min_samples_split=30)"
      ]
     },
     "execution_count": 40,
     "metadata": {},
     "output_type": "execute_result"
    }
   ],
   "source": [
    "from sklearn.tree import DecisionTreeRegressor\n",
    "dt = DecisionTreeRegressor(max_depth = 40, min_samples_leaf = 2, min_samples_split = 30)\n",
    "dt.fit(x_train,y_train)"
   ]
  },
  {
   "cell_type": "code",
   "execution_count": 41,
   "id": "e026ecf9",
   "metadata": {},
   "outputs": [
    {
     "name": "stdout",
     "output_type": "stream",
     "text": [
      "RMSE: 2670.718191639683\n",
      "MAE: 32.55097998995418\n",
      "R^2: 0.9860659790065197\n"
     ]
    }
   ],
   "source": [
    "y_pred1 = dt.predict(x_test)\n",
    "print(f\"RMSE: {np.sqrt(mean_squared_error(y_test, y_pred1))}\")\n",
    "print(f\"MAE: {np.sqrt(mean_absolute_error(y_test, y_pred1))}\")\n",
    "print(f\"R^2: {r2_score(y_test, y_pred1)}\")"
   ]
  },
  {
   "cell_type": "code",
   "execution_count": 42,
   "id": "2c6c17b8",
   "metadata": {},
   "outputs": [
    {
     "data": {
      "text/plain": [
       "0.9860659790065197"
      ]
     },
     "execution_count": 42,
     "metadata": {},
     "output_type": "execute_result"
    }
   ],
   "source": [
    "ds_score = dt.score(x_test,y_test)\n",
    "ds_score"
   ]
  },
  {
   "cell_type": "markdown",
   "id": "ffb49d01",
   "metadata": {},
   "source": [
    "### RANDOM FOREST REGRESSION"
   ]
  },
  {
   "cell_type": "code",
   "execution_count": 43,
   "id": "e91bf944",
   "metadata": {},
   "outputs": [
    {
     "data": {
      "text/plain": [
       "RandomForestRegressor(max_depth=20, random_state=75)"
      ]
     },
     "execution_count": 43,
     "metadata": {},
     "output_type": "execute_result"
    }
   ],
   "source": [
    "from sklearn.ensemble import RandomForestRegressor\n",
    "rf = RandomForestRegressor(n_estimators=100, max_depth=20, random_state=75)\n",
    "rf.fit(x_train, y_train)"
   ]
  },
  {
   "cell_type": "code",
   "execution_count": 44,
   "id": "4d4e9019",
   "metadata": {},
   "outputs": [
    {
     "name": "stdout",
     "output_type": "stream",
     "text": [
      "RMSE: 2355.4228531109843\n",
      "MAE: 31.07139991899586\n",
      "R^2: 0.9891617765617822\n"
     ]
    }
   ],
   "source": [
    "y_pred2 = rf.predict(x_test)\n",
    "print(f\"RMSE: {np.sqrt(mean_squared_error(y_test, y_pred2))}\")\n",
    "print(f\"MAE: {np.sqrt(mean_absolute_error(y_test, y_pred2))}\")\n",
    "print(f\"R^2: {r2_score(y_test, y_pred2)}\")"
   ]
  },
  {
   "cell_type": "code",
   "execution_count": 45,
   "id": "b7b5b6c5",
   "metadata": {},
   "outputs": [
    {
     "data": {
      "text/plain": [
       "0.9891617765617822"
      ]
     },
     "execution_count": 45,
     "metadata": {},
     "output_type": "execute_result"
    }
   ],
   "source": [
    "rs_score = rf.score(x_test,y_test)\n",
    "rs_score"
   ]
  },
  {
   "cell_type": "markdown",
   "id": "113bf657",
   "metadata": {},
   "source": [
    "### K-NEIGHBORS"
   ]
  },
  {
   "cell_type": "code",
   "execution_count": 46,
   "id": "ba8a71e7",
   "metadata": {},
   "outputs": [
    {
     "data": {
      "text/plain": [
       "KNeighborsRegressor(n_neighbors=4)"
      ]
     },
     "execution_count": 46,
     "metadata": {},
     "output_type": "execute_result"
    }
   ],
   "source": [
    "from sklearn.neighbors import KNeighborsRegressor\n",
    "modelKNN = KNeighborsRegressor(n_neighbors=4)\n",
    "modelKNN.fit(x_train, y_train)"
   ]
  },
  {
   "cell_type": "code",
   "execution_count": 47,
   "id": "3c66752e",
   "metadata": {},
   "outputs": [
    {
     "name": "stdout",
     "output_type": "stream",
     "text": [
      "RMSE: 16557.315142966083\n",
      "MAE: 108.44974462008098\n",
      "R^2: 0.46444983033068865\n"
     ]
    }
   ],
   "source": [
    "y_pred3 = modelKNN.predict(x_test)\n",
    "print(f\"RMSE: {np.sqrt(mean_squared_error(y_test, y_pred3))}\")\n",
    "print(f\"MAE: {np.sqrt(mean_absolute_error(y_test, y_pred3))}\")\n",
    "print(f\"R^2: {r2_score(y_test, y_pred3)}\")"
   ]
  },
  {
   "cell_type": "code",
   "execution_count": 48,
   "id": "65b0678d",
   "metadata": {},
   "outputs": [
    {
     "data": {
      "text/plain": [
       "0.46444983033068865"
      ]
     },
     "execution_count": 48,
     "metadata": {},
     "output_type": "execute_result"
    }
   ],
   "source": [
    "knn_score = modelKNN.score(x_test,y_test)\n",
    "knn_score"
   ]
  },
  {
   "cell_type": "code",
   "execution_count": 49,
   "id": "84c543ec",
   "metadata": {},
   "outputs": [],
   "source": [
    "X_axis_value=['Linear Regression','KNN','Decision Tree Classifaction','Random Forest']\n",
    "Y_axis_value=[lr_score,knn_score,ds_score,rs_score]"
   ]
  },
  {
   "cell_type": "code",
   "execution_count": 50,
   "id": "db605a57",
   "metadata": {},
   "outputs": [
    {
     "data": {
      "image/png": "[encoded data removed]",
      "text/plain": [
       "<Figure size 432x288 with 1 Axes>"
      ]
     },
     "metadata": {
      "needs_background": "light"
     },
     "output_type": "display_data"
    }
   ],
   "source": [
    "plt.bar(X_axis_value,Y_axis_value,color='red',width=0.4)\n",
    "plt.xlabel('Algorithms Used')\n",
    "plt.ylabel('Scores')\n",
    "plt.title('Algorithms vs Accuracy')\n",
    "plt.ylim(0,1)\n",
    "plt.xticks(rotation = 90)\n",
    "plt.show()"
   ]
  },
  {
   "cell_type": "code",
   "execution_count": 51,
   "id": "6baa99b1",
   "metadata": {},
   "outputs": [],
   "source": [
    "import lazypredict\n",
    "from lazypredict.Supervised import LazyClassifier"
   ]
  },
  {
   "cell_type": "code",
   "execution_count": null,
   "id": "e05870e0",
   "metadata": {},
   "outputs": [
    {
     "name": "stderr",
     "output_type": "stream",
     "text": [
      " 10%|████████▌                                                                          | 3/29 [01:02<08:39, 20.00s/it]"
     ]
    }
   ],
   "source": [
    "clf = LazyClassifier(verbose=0,ignore_warnings=True, custom_metric=None)\n",
    "models,predictions = clf.fit(x_train, x_test, y_train, y_test)\n",
    "print(models)"
   ]
  },
  {
   "cell_type": "markdown",
   "id": "bae75029",
   "metadata": {},
   "source": [
    "### CONCLUSION"
   ]
  },
  {
   "cell_type": "markdown",
   "id": "321a71f3",
   "metadata": {},
   "source": [
    "* We learn that ML models can be used to predict prices based on earlier data more correctly. The\n",
    "presented paper reflects the dynamic change in the cost of flight tickets from which we get the\n",
    "information about the increase or decrease in the price as per the days, weekends, and the time of the\n",
    "day. With the Ml algorithm applied on various datasets, better results can be obtained for prediction.\n",
    "The error values that we got for Artificial Neural Network are comparatively high but for obtaining\n",
    "lesser values we can use evolutionary algorithms of ANN like genetic algorithms in the future."
   ]
  },
  {
   "cell_type": "code",
   "execution_count": null,
   "id": "dfa1bb1e",
   "metadata": {},
   "outputs": [],
   "source": []
  }
 ],
 "metadata": {
  "kernelspec": {
   "display_name": "Python 3",
   "language": "python",
   "name": "python3"
  },
  "language_info": {
   "codemirror_mode": {
    "name": "ipython",
    "version": 3
   },
   "file_extension": ".py",
   "mimetype": "text/x-python",
   "name": "python",
   "nbconvert_exporter": "python",
   "pygments_lexer": "ipython3",
   "version": "3.8.8"
  }
 },
 "nbformat": 4,
 "nbformat_minor": 5
}
